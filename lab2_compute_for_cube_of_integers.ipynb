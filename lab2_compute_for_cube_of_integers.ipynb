{
 "cells": [
  {
   "cell_type": "markdown",
   "id": "8dec5395-6d4d-4217-b0ae-3501adeb27dd",
   "metadata": {},
   "source": [
    "# Lab Exercise 2"
   ]
  },
  {
   "cell_type": "markdown",
   "id": "c3da6ce7-9370-44e2-b568-ad8049576697",
   "metadata": {},
   "source": [
    "### This program will ask the user to input the size of the array, input the elements of the array, and then display the cube of each elements."
   ]
  },
  {
   "cell_type": "code",
   "execution_count": 6,
   "id": "500fa796-5d5c-425d-8c2f-8345bf54b527",
   "metadata": {},
   "outputs": [
    {
     "name": "stdin",
     "output_type": "stream",
     "text": [
      "Enter the size of the array:  3\n",
      "Enter 3 elements separated by space:  3 10 20\n"
     ]
    },
    {
     "name": "stdout",
     "output_type": "stream",
     "text": [
      "27\n",
      "1000\n",
      "8000\n"
     ]
    }
   ],
   "source": [
    "def input_elements_and_size(size):\n",
    "    while True:\n",
    "        try:\n",
    "            array = input(f\"Enter {size} elements separated by space: \").split()\n",
    "            if len(array) == size:\n",
    "                return [int(element) for element in array]\n",
    "            else:\n",
    "                print(f\"Please enter exactly {size} elements.\") \n",
    "        except ValueError:\n",
    "            print(\"Please enter integers!\")\n",
    "\n",
    "def get_cube(array):\n",
    "    for element in array:\n",
    "        cube = element ** 3\n",
    "        print(cube)\n",
    "\n",
    "while True:\n",
    "    try:\n",
    "        size = int(input(\"Enter the size of the array: \"))\n",
    "        break\n",
    "    except ValueError:\n",
    "        print(\"Please enter an integer!\")\n",
    "\n",
    "array = input_elements_and_size(size)\n",
    "get_cube(array)"
   ]
  },
  {
   "cell_type": "code",
   "execution_count": null,
   "id": "817c968e-2749-4bfa-bf98-5b3c974a9e58",
   "metadata": {},
   "outputs": [],
   "source": []
  }
 ],
 "metadata": {
  "kernelspec": {
   "display_name": "Python 3 (ipykernel)",
   "language": "python",
   "name": "python3"
  },
  "language_info": {
   "codemirror_mode": {
    "name": "ipython",
    "version": 3
   },
   "file_extension": ".py",
   "mimetype": "text/x-python",
   "name": "python",
   "nbconvert_exporter": "python",
   "pygments_lexer": "ipython3",
   "version": "3.12.1"
  }
 },
 "nbformat": 4,
 "nbformat_minor": 5
}
